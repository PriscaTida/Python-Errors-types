{
 "cells": [
  {
   "cell_type": "code",
   "execution_count": 7,
   "id": "e52a898f",
   "metadata": {},
   "outputs": [
    {
     "data": {
      "text/plain": [
       "'hello'"
      ]
     },
     "execution_count": 7,
     "metadata": {},
     "output_type": "execute_result"
    }
   ],
   "source": [
    "#1-index error\n",
    "\n",
    "mylist=[14, \"hello\", 967]\n",
    "mylist[1] #6 is out of range of this list, it should be 0 or 1 or 2\n"
   ]
  },
  {
   "cell_type": "code",
   "execution_count": 5,
   "id": "1986c9d9",
   "metadata": {},
   "outputs": [],
   "source": [
    "import pandas # pandas instead of Pandas\n",
    "import numpy  # numpy instead of NumPy "
   ]
  },
  {
   "cell_type": "code",
   "execution_count": 8,
   "id": "e58e2524",
   "metadata": {},
   "outputs": [
    {
     "name": "stdout",
     "output_type": "stream",
     "text": [
      "python errors\n"
     ]
    }
   ],
   "source": [
    "#2-syntax error\n",
    "\n",
    "print(\"python errors\") # Print\"python errors\"---> error because parentheses are required, and print instead of Print"
   ]
  },
  {
   "cell_type": "code",
   "execution_count": 10,
   "id": "6befa85e",
   "metadata": {},
   "outputs": [
    {
     "data": {
      "text/plain": [
       "'python'"
      ]
     },
     "execution_count": 10,
     "metadata": {},
     "output_type": "execute_result"
    }
   ],
   "source": [
    "#3-key error\n",
    "\n",
    "mydictionnary={True:\"hello\",False:\"bye\", '3':\"python\"}\n",
    "mydictionnary['3']             #True is a python keyword, it shouldn't be used as a key of dictionnary"
   ]
  },
  {
   "cell_type": "code",
   "execution_count": 15,
   "id": "d5d51cb1",
   "metadata": {},
   "outputs": [
    {
     "name": "stdout",
     "output_type": "stream",
     "text": [
      "14\n",
      "15\n",
      "16\n",
      "17\n",
      "18\n",
      "19\n"
     ]
    }
   ],
   "source": [
    "#4-indentation error\n",
    "i=14\n",
    "while i<20:\n",
    "    print(i) #identation is required\n",
    "    i+=1"
   ]
  },
  {
   "cell_type": "code",
   "execution_count": 12,
   "id": "012f070b",
   "metadata": {},
   "outputs": [
    {
     "data": {
      "text/plain": [
       "3"
      ]
     },
     "execution_count": 12,
     "metadata": {},
     "output_type": "execute_result"
    }
   ],
   "source": [
    "#5-StopIteration\n",
    "\n",
    "it=iter([1,2,3])\n",
    "next(it)\n",
    "next(it)\n",
    "next(it)\n"
   ]
  },
  {
   "cell_type": "code",
   "execution_count": 13,
   "id": "a5a160ea",
   "metadata": {},
   "outputs": [
    {
     "data": {
      "text/plain": [
       "30"
      ]
     },
     "execution_count": 13,
     "metadata": {},
     "output_type": "execute_result"
    }
   ],
   "source": [
    "#6-TypeError\n",
    "\n",
    "15+15  #'15'+15---> cannot concanate str and int objects"
   ]
  },
  {
   "cell_type": "code",
   "execution_count": 19,
   "id": "e05d61b0",
   "metadata": {},
   "outputs": [
    {
     "data": {
      "text/plain": [
       "3"
      ]
     },
     "execution_count": 19,
     "metadata": {},
     "output_type": "execute_result"
    }
   ],
   "source": [
    "#7-ValueError\n",
    "\n",
    "int(3.5)  # int('python')---> error : convert a string value to integer is not possible\n",
    "\n"
   ]
  },
  {
   "cell_type": "code",
   "execution_count": 21,
   "id": "bc2315dc",
   "metadata": {},
   "outputs": [
    {
     "ename": "NameError",
     "evalue": "name 'Python' is not defined",
     "output_type": "error",
     "traceback": [
      "\u001b[1;31m---------------------------------------------------------------------------\u001b[0m",
      "\u001b[1;31mNameError\u001b[0m                                 Traceback (most recent call last)",
      "Input \u001b[1;32mIn [21]\u001b[0m, in \u001b[0;36m<cell line: 3>\u001b[1;34m()\u001b[0m\n\u001b[0;32m      1\u001b[0m \u001b[38;5;66;03m#8-NameError\u001b[39;00m\n\u001b[1;32m----> 3\u001b[0m \u001b[43mPython\u001b[49m\n",
      "\u001b[1;31mNameError\u001b[0m: name 'Python' is not defined"
     ]
    }
   ],
   "source": [
    "#8-NameError\n",
    "\n",
    "python # python is interpreted as a variable if we are not in Windows Command Line,, and it should be defined"
   ]
  },
  {
   "cell_type": "code",
   "execution_count": 22,
   "id": "e97c79fd",
   "metadata": {},
   "outputs": [
    {
     "ename": "ZeroDivisionError",
     "evalue": "division by zero",
     "output_type": "error",
     "traceback": [
      "\u001b[1;31m---------------------------------------------------------------------------\u001b[0m",
      "\u001b[1;31mZeroDivisionError\u001b[0m                         Traceback (most recent call last)",
      "Input \u001b[1;32mIn [22]\u001b[0m, in \u001b[0;36m<cell line: 3>\u001b[1;34m()\u001b[0m\n\u001b[0;32m      1\u001b[0m \u001b[38;5;66;03m#9-ZeroDivisionError\u001b[39;00m\n\u001b[1;32m----> 3\u001b[0m x\u001b[38;5;241m=\u001b[39m\u001b[38;5;241;43m19\u001b[39;49m\u001b[38;5;241;43m/\u001b[39;49m\u001b[38;5;241;43m0\u001b[39;49m\n",
      "\u001b[1;31mZeroDivisionError\u001b[0m: division by zero"
     ]
    }
   ],
   "source": [
    "#9-ZeroDivisionError\n",
    "\n",
    "x=19/0"
   ]
  },
  {
   "cell_type": "code",
   "execution_count": 24,
   "id": "39367e01",
   "metadata": {},
   "outputs": [],
   "source": [
    "try:\n",
    "    x = 19/0\n",
    "    print(x)\n",
    "except ZeroDivisionError:\n",
    "    pass"
   ]
  },
  {
   "cell_type": "code",
   "execution_count": null,
   "id": "f11c8a82",
   "metadata": {},
   "outputs": [],
   "source": []
  }
 ],
 "metadata": {
  "kernelspec": {
   "display_name": "Python 3 (ipykernel)",
   "language": "python",
   "name": "python3"
  },
  "language_info": {
   "codemirror_mode": {
    "name": "ipython",
    "version": 3
   },
   "file_extension": ".py",
   "mimetype": "text/x-python",
   "name": "python",
   "nbconvert_exporter": "python",
   "pygments_lexer": "ipython3",
   "version": "3.9.12"
  }
 },
 "nbformat": 4,
 "nbformat_minor": 5
}
